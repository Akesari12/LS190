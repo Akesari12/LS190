{
 "cells": [
  {
   "cell_type": "code",
   "execution_count": null,
   "metadata": {
    "collapsed": true
   },
   "outputs": [],
   "source": [
    "from datascience import *\n",
    "%matplotlib inline\n",
    "import matplotlib.pyplot as plt\n",
    "import numpy as np\n",
    "from sklearn import datasets, linear_model\n",
    "from sklearn.metrics import mean_squared_error, r2_score"
   ]
  },
  {
   "cell_type": "markdown",
   "metadata": {},
   "source": [
    "## Data"
   ]
  },
  {
   "cell_type": "markdown",
   "metadata": {},
   "source": [
    "For this lab, we'll be using the American National Election Survey again. Here's the codebook: http://www.electionstudies.org/studypages/anes_pilot_2016/anes_pilot_2016_CodebookUserGuide.pdf"
   ]
  },
  {
   "cell_type": "code",
   "execution_count": null,
   "metadata": {},
   "outputs": [],
   "source": [
    "anes = Table.read_table('../data/anes/anes_pilot_2016.csv')\n",
    "anes"
   ]
  },
  {
   "cell_type": "markdown",
   "metadata": {},
   "source": [
    "## Regression Basics"
   ]
  },
  {
   "cell_type": "markdown",
   "metadata": {},
   "source": [
    "Ordinary Least Squares (OLS) Regression is a canonical social scientific tool, and also a foundational machine learning technique. Here, we will build the intuition behind linear regression, and learn the basic of fitting a machine learning model.  "
   ]
  },
  {
   "cell_type": "markdown",
   "metadata": {},
   "source": [
    "### Simple Linear Regression"
   ]
  },
  {
   "cell_type": "markdown",
   "metadata": {},
   "source": [
    "#### Visual Intuition"
   ]
  },
  {
   "cell_type": "markdown",
   "metadata": {},
   "source": [
    "Create an object called \"obamavtrump\" that selects the \"ftobama\" and \"fttrump\" features of the anes dataframe, and subsets only to valid values of both (within the domain [0, 100]). "
   ]
  },
  {
   "cell_type": "code",
   "execution_count": null,
   "metadata": {
    "collapsed": true
   },
   "outputs": [],
   "source": [
    "obamavtrump = "
   ]
  },
  {
   "cell_type": "markdown",
   "metadata": {},
   "source": [
    "Now, plot a scatter plot of \"ftobama v. fttrump\""
   ]
  },
  {
   "cell_type": "code",
   "execution_count": null,
   "metadata": {
    "collapsed": true
   },
   "outputs": [],
   "source": []
  },
  {
   "cell_type": "markdown",
   "metadata": {},
   "source": [
    "#### Question 1"
   ]
  },
  {
   "cell_type": "markdown",
   "metadata": {},
   "source": [
    "Interpret the plot. Is the relationship positive or negative? If you were to draw a \"line of best fit,\" what would it look like? "
   ]
  },
  {
   "cell_type": "markdown",
   "metadata": {},
   "source": []
  },
  {
   "cell_type": "markdown",
   "metadata": {},
   "source": [
    "#### Fitting a Simple OLS Model"
   ]
  },
  {
   "cell_type": "markdown",
   "metadata": {},
   "source": [
    "Now construct a plot with the \"ftpolice\" feature and \"fttrump\" feature."
   ]
  },
  {
   "cell_type": "code",
   "execution_count": null,
   "metadata": {
    "collapsed": true
   },
   "outputs": [],
   "source": []
  },
  {
   "cell_type": "code",
   "execution_count": null,
   "metadata": {},
   "outputs": [],
   "source": []
  },
  {
   "cell_type": "markdown",
   "metadata": {},
   "source": [
    "What does this relationship look like? Let's get more precise! Use the \"linear_model\" submodule from the \"sklearn\" module to fit a linear model to the data. Tasks here involve:\n",
    "\n",
    "1. Creating an object for the linear model \n",
    "2. Saving \"ftpolice\" into into a numpy array called X, and \"fttrump\" into a numpy array called Y\n",
    "3. Fit a model of Y ~ X\n",
    "4. Predict the responses to \"fttrump\" based on \"ftpolice\" and save into an object called \"trump_preds\"\n",
    "5. Replot the scatterplot from above, and add the line of best fit\n",
    "\n",
    "Consult the sklearn documentation for help: http://scikit-learn.org/stable/modules/generated/sklearn.linear_model.LinearRegression.html#sklearn.linear_model.LinearRegression.fit"
   ]
  },
  {
   "cell_type": "code",
   "execution_count": null,
   "metadata": {
    "collapsed": true
   },
   "outputs": [],
   "source": [
    "# Create a linear regression object\n",
    " = linear_model.LinearRegression()\n",
    "\n",
    "# Store in matrices X and Y\n",
    "    "
   ]
  },
  {
   "cell_type": "code",
   "execution_count": null,
   "metadata": {
    "collapsed": true
   },
   "outputs": [],
   "source": [
    "# Run the simple OLS model\n",
    "## Need X.reshape(-1,1) for simple OLS\n",
    "X = X.reshape(-1,1)\n",
    "\n",
    "\n",
    "# Predicted Responses\n",
    "\n"
   ]
  },
  {
   "cell_type": "code",
   "execution_count": null,
   "metadata": {},
   "outputs": [],
   "source": [
    "\n"
   ]
  },
  {
   "cell_type": "markdown",
   "metadata": {},
   "source": [
    "#### Question 2"
   ]
  },
  {
   "cell_type": "markdown",
   "metadata": {},
   "source": [
    "Interpret the plot again. Does the line of best fit adequately model the relationship between fttrump and ftpolice? Why or why not?"
   ]
  },
  {
   "cell_type": "markdown",
   "metadata": {},
   "source": []
  },
  {
   "cell_type": "markdown",
   "metadata": {},
   "source": [
    "### Multiple Linear Regression"
   ]
  },
  {
   "cell_type": "markdown",
   "metadata": {},
   "source": [
    "Now let's do the same thing with more than one feature! Create a table with \"ftobama,\" \"meet,\" \"givefut,\" \"ftblack,\" \"fttrump,\" \"fthrc,\" \"ftsci,\" \"presjob,\" \"econ12mo, \"bo_muslim\". \n",
    "\n",
    "Then, run a regression of \"ftobama\" on all of the features except for \"fttrump.\""
   ]
  },
  {
   "cell_type": "code",
   "execution_count": null,
   "metadata": {
    "collapsed": true
   },
   "outputs": [],
   "source": [
    "# Cleaning done for you; be sure to consult the codebook though!\n",
    "obama = anes.where('ftobama', are.below(101)).where('ftblack', are.below(101)).where('fttrump', are.below(101)).where('fthrc', are.below(101)).where('ftsci', are.below(101)).where('econ12mo', are.below(6)).where(\"bo_muslim\", are.below(3))\n",
    "obama = obama.select('ftobama', 'meet', 'givefut', 'ftblack', 'fttrump', 'fthrc', 'ftsci', 'presjob', 'econ12mo', 'bo_muslim')"
   ]
  },
  {
   "cell_type": "code",
   "execution_count": null,
   "metadata": {
    "collapsed": true
   },
   "outputs": [],
   "source": [
    "# Create a linear regression object\n",
    "\n",
    "# Convert data to X and Y matrices (hint: you may want to convert \"X\" to a dataframe)\n"
   ]
  },
  {
   "cell_type": "code",
   "execution_count": null,
   "metadata": {
    "collapsed": true
   },
   "outputs": [],
   "source": [
    "# Run the simple OLS model\n",
    "\n",
    "\n",
    "# Predicted Responses\n",
    "\n"
   ]
  },
  {
   "cell_type": "code",
   "execution_count": null,
   "metadata": {},
   "outputs": [],
   "source": [
    "print('Coefficients: \\n', lm.coef_)"
   ]
  },
  {
   "cell_type": "code",
   "execution_count": null,
   "metadata": {},
   "outputs": [],
   "source": [
    "print('R^2: %.2f' % r2_score(Y, obama_preds))"
   ]
  },
  {
   "cell_type": "markdown",
   "metadata": {},
   "source": [
    "Now, run the same model, but this time use \"fttrump\" as a feature"
   ]
  },
  {
   "cell_type": "code",
   "execution_count": null,
   "metadata": {
    "collapsed": true
   },
   "outputs": [],
   "source": [
    "# Create a linear regression object\n",
    "\n",
    "\n",
    "# Convert data to X and Y matrices (hint: you may want to convert \"X\" to a dataframe)\n"
   ]
  },
  {
   "cell_type": "code",
   "execution_count": null,
   "metadata": {
    "collapsed": true
   },
   "outputs": [],
   "source": [
    "# Run the simple OLS model\n",
    "\n",
    "\n",
    "# Predicted Responses\n",
    "\n",
    "    "
   ]
  },
  {
   "cell_type": "code",
   "execution_count": null,
   "metadata": {},
   "outputs": [],
   "source": [
    "print('Coefficients: \\n', lm.coef_)"
   ]
  },
  {
   "cell_type": "code",
   "execution_count": null,
   "metadata": {},
   "outputs": [],
   "source": [
    "print('R^2: %.2f' % r2_score(Y, obama_preds))"
   ]
  },
  {
   "cell_type": "markdown",
   "metadata": {},
   "source": [
    "#### Question 3"
   ]
  },
  {
   "cell_type": "markdown",
   "metadata": {},
   "source": [
    "How do the coefficients and fit of the model compare when you add \"feelings toward Trump\" as a feature in the model? Could you make meaningfully more accurate predictions? Is adding the extra feature worth the costs associated with added dimensionality?"
   ]
  },
  {
   "cell_type": "markdown",
   "metadata": {},
   "source": []
  }
 ],
 "metadata": {
  "kernelspec": {
   "display_name": "Python 3",
   "language": "python",
   "name": "python3"
  },
  "language_info": {
   "codemirror_mode": {
    "name": "ipython",
    "version": 3
   },
   "file_extension": ".py",
   "mimetype": "text/x-python",
   "name": "python",
   "nbconvert_exporter": "python",
   "pygments_lexer": "ipython3",
   "version": "3.6.3"
  }
 },
 "nbformat": 4,
 "nbformat_minor": 2
}
