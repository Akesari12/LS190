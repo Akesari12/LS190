{
 "cells": [
  {
   "cell_type": "markdown",
   "metadata": {},
   "source": [
    "### LEGALST-190 Lab 2/13\n",
    "\n",
    "---\n",
    "\n",
    "In this lab, students will learn how to construct a heatmap, as well as an interactive heat map. This will also be a component of the take-home problem set. This builds ontop of the folium labs from last week.\n"
   ]
  },
  {
   "cell_type": "code",
   "execution_count": 1,
   "metadata": {
    "collapsed": true
   },
   "outputs": [],
   "source": [
    "# dependencies\n",
    "from datascience import *\n",
    "%matplotlib inline\n",
    "import matplotlib.pyplot as plt\n",
    "import numpy as np\n",
    "import pandas as pd\n",
    "import folium\n",
    "import json\n",
    "import os"
   ]
  },
  {
   "cell_type": "code",
   "execution_count": 2,
   "metadata": {},
   "outputs": [
    {
     "name": "stdout",
     "output_type": "stream",
     "text": [
      "Requirement already up-to-date: folium in c:\\users\\anike\\anaconda3\\lib\\site-packages\n",
      "Requirement already up-to-date: requests in c:\\users\\anike\\anaconda3\\lib\\site-packages (from folium)\n",
      "Requirement already up-to-date: six in c:\\users\\anike\\anaconda3\\lib\\site-packages (from folium)\n",
      "Requirement already up-to-date: jinja2 in c:\\users\\anike\\anaconda3\\lib\\site-packages (from folium)\n",
      "Requirement already up-to-date: branca in c:\\users\\anike\\anaconda3\\lib\\site-packages (from folium)\n",
      "Requirement already up-to-date: chardet<3.1.0,>=3.0.2 in c:\\users\\anike\\anaconda3\\lib\\site-packages (from requests->folium)\n",
      "Requirement already up-to-date: idna<2.7,>=2.5 in c:\\users\\anike\\anaconda3\\lib\\site-packages (from requests->folium)\n",
      "Requirement already up-to-date: urllib3<1.23,>=1.21.1 in c:\\users\\anike\\anaconda3\\lib\\site-packages (from requests->folium)\n",
      "Requirement already up-to-date: certifi>=2017.4.17 in c:\\users\\anike\\anaconda3\\lib\\site-packages (from requests->folium)\n",
      "Requirement already up-to-date: MarkupSafe>=0.23 in c:\\users\\anike\\anaconda3\\lib\\site-packages (from jinja2->folium)\n"
     ]
    }
   ],
   "source": [
    "!pip install folium --upgrade\n",
    "import folium.plugins # The Folium Javascript Map Library\n",
    "from folium.plugins import HeatMap\n",
    "from folium.plugins import HeatMapWithTime"
   ]
  },
  {
   "cell_type": "markdown",
   "metadata": {},
   "source": [
    "---\n",
    "\n",
    "## The Data <a id='data'></a>\n",
    "---\n",
    "\n",
    "Today we'll be working with data on Berkeley crime calls, courtesy of the Berkeley Police department. Take a look at the metadata [here.](https://data.cityofberkeley.info/Public-Safety/Berkeley-PD-Calls-for-Service/k2nh-s5h5)\n",
    "\n",
    "Note: this data set has already undergone a fair amount of cleaning to format it for our purposes (e.g. extracting the longitude and latitude, removing null values, and dropping irrelevant columns). You can see the original data at the source website.\n",
    "\n",
    "Then, run the cell below to load the data into a Table.  "
   ]
  },
  {
   "cell_type": "code",
   "execution_count": 3,
   "metadata": {},
   "outputs": [
    {
     "data": {
      "text/html": [
       "<table border=\"1\" class=\"dataframe\">\n",
       "    <thead>\n",
       "        <tr>\n",
       "            <th>OFFENSE</th> <th>CVLEGEND</th> <th>BLKADDR</th> <th>City</th> <th>State</th> <th>Day</th> <th>Lat</th> <th>Lon</th> <th>timestamp</th>\n",
       "        </tr>\n",
       "    </thead>\n",
       "    <tbody>\n",
       "        <tr>\n",
       "            <td>BURGLARY AUTO           </td> <td>BURGLARY - VEHICLE   </td> <td>1300 SAN PABLO AVE        </td> <td>Berkeley</td> <td>CA   </td> <td>Monday   </td> <td>37.8803</td> <td>-122.296</td> <td>2017-12-18 09:45:00</td>\n",
       "        </tr>\n",
       "    </tbody>\n",
       "        <tr>\n",
       "            <td>THEFT MISD. (UNDER $950)</td> <td>LARCENY              </td> <td>1600 SHATTUCK AVE         </td> <td>Berkeley</td> <td>CA   </td> <td>Monday   </td> <td>37.8781</td> <td>-122.269</td> <td>2017-10-30 10:25:00</td>\n",
       "        </tr>\n",
       "    </tbody>\n",
       "        <tr>\n",
       "            <td>BURGLARY COMMERCIAL     </td> <td>BURGLARY - COMMERCIAL</td> <td>1400 SHATTUCK AVE         </td> <td>Berkeley</td> <td>CA   </td> <td>Saturday </td> <td>37.882 </td> <td>-122.27 </td> <td>2018-01-20 05:23:00</td>\n",
       "        </tr>\n",
       "    </tbody>\n",
       "        <tr>\n",
       "            <td>ALCOHOL OFFENSE         </td> <td>LIQUOR LAW VIOLATION </td> <td>SOLANO AVENUE & COLUSA AVE</td> <td>Berkeley</td> <td>CA   </td> <td>Saturday </td> <td>37.8914</td> <td>-122.279</td> <td>2017-10-28 20:08:00</td>\n",
       "        </tr>\n",
       "    </tbody>\n",
       "        <tr>\n",
       "            <td>BURGLARY AUTO           </td> <td>BURGLARY - VEHICLE   </td> <td>800 POTTER ST             </td> <td>Berkeley</td> <td>CA   </td> <td>Wednesday</td> <td>37.8513</td> <td>-122.293</td> <td>2018-01-03 19:00:00</td>\n",
       "        </tr>\n",
       "    </tbody>\n",
       "</table>\n",
       "<p>... (5025 rows omitted)</p"
      ],
      "text/plain": [
       "<IPython.core.display.HTML object>"
      ]
     },
     "metadata": {},
     "output_type": "display_data"
    }
   ],
   "source": [
    "calls = Table.read_table('data/berkeley_crime_0218.csv', index_col=0)\n",
    "calls.show(5)"
   ]
  },
  {
   "cell_type": "markdown",
   "metadata": {},
   "source": [
    "When working with any new data set, it's a good idea to get to know it first. Use the following cell and the information on cityofberkeley.org to answer some basic questions:\n",
    "- What information does this table contain? What are the different columns?\n",
    "- How large is the data set? \n",
    "- What kinds of questions could we answer using this data set?"
   ]
  },
  {
   "cell_type": "markdown",
   "metadata": {},
   "source": []
  },
  {
   "cell_type": "markdown",
   "metadata": {},
   "source": [
    "## Heatmap <a id='data'></a>"
   ]
  },
  {
   "cell_type": "markdown",
   "metadata": {},
   "source": [
    "Let's see if we can figure out what heatmap does and why it is useful.But first, we're going to quickly review how to use folium.Map. Again, you should consult the [python visualizer](https://python-visualization.github.io/folium/quickstart.html) for a refresher in case you forget how folium works!"
   ]
  },
  {
   "cell_type": "markdown",
   "metadata": {},
   "source": [
    "Plot a map of the United States again using folium.Map.\n",
    "\n",
    "<b>Reminder</b>: It is in the order of lat, log and the larger the zoom_start is the closer the map is."
   ]
  },
  {
   "cell_type": "code",
   "execution_count": 4,
   "metadata": {},
   "outputs": [
    {
     "data": {
      "text/html": [
       "<div style=\"width:100%;\"><div style=\"position:relative;width:100%;height:0;padding-bottom:60%;\"><iframe src=\"data:text/html;charset=utf-8;base64,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\" style=\"position:absolute;width:100%;height:100%;left:0;top:0;border:none !important;\" allowfullscreen webkitallowfullscreen mozallowfullscreen></iframe></div></div>"
      ],
      "text/plain": [
       "<folium.folium.Map at 0x1bb6df092e8>"
      ]
     },
     "execution_count": 4,
     "metadata": {},
     "output_type": "execute_result"
    }
   ],
   "source": [
    "# First, we create a folium Map\n",
    "example_map1 = folium.Map([39.83, -98.59], zoom_start=6)\n",
    "example_map1"
   ]
  },
  {
   "cell_type": "markdown",
   "metadata": {},
   "source": [
    "### Key Note"
   ]
  },
  {
   "cell_type": "markdown",
   "metadata": {
    "collapsed": true
   },
   "source": [
    "Heatmaps do not take Tables so you will need to provide a list of lat, lons, i.e. a list of lists. \n",
    "\n",
    "Imagine that it looks something like this: `[[lat, lon],[lat, lon],[lat, lon],[lat, lon],[lat, lon]]`. This means if you were given a Table, there are a few steps you'd have to take.\n",
    "\n",
    "1. Make sure the lat and lon are floats.\n",
    "2. Filter the Table for the correct rows and columns.\n",
    "\n",
    "What is something else you believe you'll need to check for to make sure that Heatmap will work?"
   ]
  },
  {
   "cell_type": "markdown",
   "metadata": {},
   "source": []
  },
  {
   "cell_type": "markdown",
   "metadata": {},
   "source": [
    "Our data set today has already had the NaNs filtered out, but that might not be true for data you work with in the future...\n",
    "\n",
    "Run the next cell to generate a set of dummy `[[lat, lon]]` pairs for the HeatMap. Don't worry about the information itself. Instead, note how the array is formatted."
   ]
  },
  {
   "cell_type": "code",
   "execution_count": 5,
   "metadata": {},
   "outputs": [
    {
     "data": {
      "text/plain": [
       "[[40.10934418951442, -98.316709413751],\n",
       " [40.22956072106896, -96.44774343976287],\n",
       " [39.87211266576602, -99.1430352392865],\n",
       " [39.56570911289435, -97.49733564478818],\n",
       " [40.002962493313, -99.11961217175848],\n",
       " [40.20948233543553, -97.98135963323405],\n",
       " [38.66840255810513, -99.41457302613887],\n",
       " [40.94704598947841, -98.63678739597316],\n",
       " [39.75856120654914, -98.87142844013334],\n",
       " [39.900915250498755, -99.86608956582039],\n",
       " [40.73432761011113, -97.16192233349608],\n",
       " [39.68990206474196, -97.24761716286774],\n",
       " [39.49264561596287, -99.00886095408727],\n",
       " [38.47840834494385, -98.47038871634376],\n",
       " [39.370954471640154, -98.72596954860235],\n",
       " [40.105889807509016, -99.72834369411348],\n",
       " [39.567608518636405, -98.77171869294949],\n",
       " [40.27648078555396, -98.14457276104234],\n",
       " [39.46890435629817, -100.50675230739144],\n",
       " [39.897517549258325, -99.35701276982527],\n",
       " [38.90053487665428, -99.39219564022254],\n",
       " [41.83935426988349, -97.9679677585273],\n",
       " [39.84188250981375, -98.25291715442432],\n",
       " [39.20450287588199, -97.74228738951236],\n",
       " [37.123110038371024, -97.69715442097778],\n",
       " [39.82575120609303, -98.90118828292967],\n",
       " [38.33669344449619, -98.4827627644748],\n",
       " [39.15452007245571, -97.85579790205512],\n",
       " [42.24909335048932, -98.02577998732069],\n",
       " [39.8990474746661, -99.85829367480098],\n",
       " [38.973580543736325, -100.13761365521124],\n",
       " [38.32156378061535, -98.55986143126438],\n",
       " [39.385948934643686, -98.27409322627452],\n",
       " [39.85309852442863, -98.68013647960309],\n",
       " [39.0853075419561, -100.71872751749879],\n",
       " [38.61371080580906, -98.53579495274855],\n",
       " [38.053942206907955, -98.38855968703584],\n",
       " [39.99824505207385, -99.64150615228112],\n",
       " [40.262526795685396, -98.76729173372493],\n",
       " [39.33462619902088, -99.17099539473043],\n",
       " [40.955473068861316, -98.22519031766439],\n",
       " [39.28568173884343, -97.95920622821946],\n",
       " [39.54797214105497, -98.29563576437181],\n",
       " [39.76029653229254, -97.00390480768155],\n",
       " [39.98631256284966, -98.35727057046657],\n",
       " [40.57170168554302, -97.85265407396336],\n",
       " [41.40220552570588, -99.3240029442055],\n",
       " [39.892493820908946, -98.84938952455722],\n",
       " [41.187993413951354, -98.02094499468551],\n",
       " [40.70987246541742, -99.16032851594974],\n",
       " [40.76725594872846, -96.62826491245008],\n",
       " [40.90405694039885, -98.53462756620719],\n",
       " [38.87359296631939, -98.77544844153262],\n",
       " [39.713476543728646, -98.3784334020588],\n",
       " [38.02257283565233, -100.91749931623178],\n",
       " [39.74891788447363, -99.56365719314715],\n",
       " [38.68676667750633, -98.55885870917517],\n",
       " [39.11163462335827, -97.3923504574272],\n",
       " [39.36611184209454, -100.20012206490699],\n",
       " [39.34012276391366, -96.97072244080556],\n",
       " [40.187811848858715, -99.82193425264717],\n",
       " [39.40412296562311, -98.67639413062388],\n",
       " [38.25831731226552, -99.34915174432456],\n",
       " [40.112994807097465, -97.48198629160927],\n",
       " [37.97704619217904, -96.6897701333156],\n",
       " [39.603120732975995, -99.37582393307841],\n",
       " [40.85546425670597, -100.76328479658197],\n",
       " [41.00069104694001, -101.34986938828884],\n",
       " [39.60371897711295, -97.95957063847361],\n",
       " [39.799293715467094, -98.01684879176631],\n",
       " [38.7667671486747, -97.26832671160489],\n",
       " [40.53392450061487, -98.47559265713768],\n",
       " [40.59679130797349, -98.6608213559917],\n",
       " [38.5950007635887, -100.59077105016478],\n",
       " [40.06768385551992, -98.42779686564674],\n",
       " [40.96223080995838, -98.46021000421646],\n",
       " [40.57822980138548, -98.23724935475055],\n",
       " [39.68732595916876, -98.35328816215554],\n",
       " [40.11677524723247, -99.4928708543259],\n",
       " [39.907434691749536, -98.31024121464623],\n",
       " [40.30290008570175, -98.47978508650728],\n",
       " [39.726813320025755, -98.9783177965978],\n",
       " [40.697487481138566, -97.82510993792945],\n",
       " [39.80933470694885, -99.73421720595297],\n",
       " [40.219724212305756, -99.79181628522184],\n",
       " [39.63590641027114, -98.14193775311242],\n",
       " [39.834963570699195, -98.48064087085145],\n",
       " [40.99508385192695, -99.93954625071908],\n",
       " [41.6758612996459, -98.53399602199296],\n",
       " [40.3251510026786, -98.00082580336912],\n",
       " [38.31429075902272, -97.88426266234812],\n",
       " [40.39009970351027, -98.08952957628638],\n",
       " [39.787523167661654, -98.73610868396734],\n",
       " [39.2521227960825, -98.4045906661289],\n",
       " [39.98130605108845, -99.30155087780803],\n",
       " [40.11165267732077, -98.96593271445758],\n",
       " [40.41982959746965, -98.36171178867822],\n",
       " [40.92059109301064, -99.84707085733451],\n",
       " [39.4821800541807, -98.38404051844114],\n",
       " [40.030063853750555, -97.74982074484687]]"
      ]
     },
     "execution_count": 5,
     "metadata": {},
     "output_type": "execute_result"
    }
   ],
   "source": [
    "# The first two lines generate an array of small random numbers.\n",
    "# The third line adds the random numbers to the pair [48, 5] to get 100 latitude, longitude pairs near [48, 5]\n",
    "data = (np.random.normal(size=(100, 2)) *\n",
    "        np.array([[1, 1]]) +\n",
    "        np.array([[39.83, -98.59]])).tolist()\n",
    "data"
   ]
  },
  {
   "cell_type": "markdown",
   "metadata": {},
   "source": [
    "Then we can plot it on the map! The function is pretty simple: \n",
    "1. Create a Heatmap using the function `Heatmap(your_lat_lon_data)`\n",
    "2. Add that Heatmap to your existing map with `add_to(your_map)`"
   ]
  },
  {
   "cell_type": "code",
   "execution_count": 6,
   "metadata": {},
   "outputs": [
    {
     "data": {
      "text/html": [
       "<div style=\"width:100%;\"><div style=\"position:relative;width:100%;height:0;padding-bottom:60%;\"><iframe src=\"data:text/html;charset=utf-8;base64,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\" style=\"position:absolute;width:100%;height:100%;left:0;top:0;border:none !important;\" allowfullscreen webkitallowfullscreen mozallowfullscreen></iframe></div></div>"
      ],
      "text/plain": [
       "<folium.folium.Map at 0x1bb6df092e8>"
      ]
     },
     "execution_count": 6,
     "metadata": {},
     "output_type": "execute_result"
    }
   ],
   "source": [
    "# Add the HeatMap to the map\n",
    "HeatMap(data).add_to(example_map1)\n",
    "\n",
    "example_map1"
   ]
  },
  {
   "cell_type": "markdown",
   "metadata": {},
   "source": [
    "Play around with your new Heatmap. What is it plotting? What kinds of things would a Heatmap be useful for?"
   ]
  },
  {
   "cell_type": "markdown",
   "metadata": {},
   "source": []
  },
  {
   "cell_type": "markdown",
   "metadata": {},
   "source": [
    "### Try It Out"
   ]
  },
  {
   "cell_type": "markdown",
   "metadata": {},
   "source": [
    "Now, try making your own Heatmap using the Berkeley PD call data. First, plot a Folium Map of the Bay Area, just like you did last week."
   ]
  },
  {
   "cell_type": "code",
   "execution_count": null,
   "metadata": {
    "collapsed": true
   },
   "outputs": [],
   "source": [
    "#Plot the map of Berkeley\n",
    "berk_coords = ...\n",
    "berk_map = ...\n",
    "berk_map"
   ]
  },
  {
   "cell_type": "markdown",
   "metadata": {},
   "source": [
    "Next, extract your latitude and longitude data from the `calls` Table and save each to the variables `lat` and `lon`. We want the data as a numpy array, so don't use the `select` function; instead, index the Table by the correct column (e.g. `calls[\"Column_I_Want\"]`)."
   ]
  },
  {
   "cell_type": "code",
   "execution_count": null,
   "metadata": {
    "collapsed": true
   },
   "outputs": [],
   "source": [
    "lat = ...\n",
    "lon = ...\n",
    "lat"
   ]
  },
  {
   "cell_type": "markdown",
   "metadata": {},
   "source": [
    "We have the right data, but it isn't in the right shape: we want an array of arrays, where the first column is latitudes, the second column is longitudes, and each row is a `[lat, lon]` pair (see the example above). We can do this by:\n",
    "1. **Stacking** the `lat` array on top of the `lon` array into one larger array with `np.vstack`\n",
    "2. **Transposing** our stacked array so the latitude and longitude are vertical columns, not horizontal rows.\n",
    "\n",
    "Hint 1: the stacking function call looks something like `np.vstack((top_array, bottom_array))`\n",
    "Hint 2: you can transpose an array by calling `.transpose()` on the array"
   ]
  },
  {
   "cell_type": "code",
   "execution_count": null,
   "metadata": {
    "collapsed": true
   },
   "outputs": [],
   "source": [
    "call_locs = ...\n",
    "call_locs[1]"
   ]
  },
  {
   "cell_type": "markdown",
   "metadata": {},
   "source": [
    "Now, you have everything you need to make your HeatMap! Do so in the cell below."
   ]
  },
  {
   "cell_type": "code",
   "execution_count": null,
   "metadata": {
    "collapsed": true
   },
   "outputs": [],
   "source": [
    "#Create a Heatmap with the call data.\n",
    "heatmap = ...\n",
    "\n",
    "# Add it to your Berkeley map.\n",
    "..."
   ]
  },
  {
   "cell_type": "markdown",
   "metadata": {},
   "source": [
    "What conclusions can you draw from this Heatmap?"
   ]
  },
  {
   "cell_type": "markdown",
   "metadata": {},
   "source": []
  },
  {
   "cell_type": "markdown",
   "metadata": {},
   "source": [
    "## HeatMapwithTime <a id='data'></a>"
   ]
  },
  {
   "cell_type": "markdown",
   "metadata": {},
   "source": [
    "Now what do you think is different with HeatMapwithTime?"
   ]
  },
  {
   "cell_type": "markdown",
   "metadata": {},
   "source": []
  },
  {
   "cell_type": "markdown",
   "metadata": {},
   "source": [
    "In this example, we'll again use dummy data to show how it works. It follows a similar process to HeatMap. First, create another Folium Map centered at the geographical center of the USA."
   ]
  },
  {
   "cell_type": "code",
   "execution_count": null,
   "metadata": {
    "collapsed": true
   },
   "outputs": [],
   "source": [
    "# Create a folium Map at the USA's center\n",
    "example_map2 = ...\n",
    "example_map2"
   ]
  },
  {
   "cell_type": "markdown",
   "metadata": {},
   "source": [
    "Next, we will create more dummy location data to simulate locations associated with different dates. Don't worry too much about the code here, but you do need to understand how the output is shaped and why it needs to be shaped like that."
   ]
  },
  {
   "cell_type": "code",
   "execution_count": null,
   "metadata": {
    "collapsed": true
   },
   "outputs": [],
   "source": [
    "# This cell builds together an array of initial data to display on our HeatMapwithTime. Just as before, these are dummy \n",
    "# variables that are 100 copies of the center of the USA meant to simulate different locations in the area.\n",
    "# Again, we have to use lon and lat in addition to time.\n",
    "np.random.seed(3141592)\n",
    "initial_data = (\n",
    "    np.random.normal(size=(100, 2)) * np.array([[1, 1]]) +\n",
    "    np.array([[48, 5]])\n",
    ")\n",
    "\n",
    "# Create even more random lat/lon pairs and group into 100 lists\n",
    "# You don't need to know how to write this code\n",
    "move_data = np.random.normal(size=(100, 2)) * 0.01\n",
    "\n",
    "data = [(initial_data + move_data * i).tolist() for i in range(100)]\n",
    "data[1]"
   ]
  },
  {
   "cell_type": "markdown",
   "metadata": {},
   "source": [
    "Since we're using HeatMapWithTime, we need an extra parameter: the dates for each list of lat/lon pairs. Run the next cell to create one."
   ]
  },
  {
   "cell_type": "code",
   "execution_count": null,
   "metadata": {
    "collapsed": true
   },
   "outputs": [],
   "source": [
    "# Generate a set of dates for this dummy data.\n",
    "# Luckily for us, when you test this out for yourself, dates came with your data set.\n",
    "# You don't need to write out this code, but do look it over and see if you can understand it.\n",
    "from datetime import datetime, timedelta\n",
    "\n",
    "time_index = [\n",
    "    (datetime.now() + k * timedelta(1)).strftime('%Y-%m-%d') for\n",
    "    k in range(len(data))\n",
    "]"
   ]
  },
  {
   "cell_type": "markdown",
   "metadata": {},
   "source": [
    "Finally, create the HeatMapWithTime by calling the constructor function on the data and settng the index to the set of dates you generated. Then, add it to your Map."
   ]
  },
  {
   "cell_type": "code",
   "execution_count": null,
   "metadata": {
    "collapsed": true
   },
   "outputs": [],
   "source": [
    "# This is the code on how to run HeatMapwithTime. Looks similar to code we saw above right?\n",
    "m = folium.Map([48., 5.], zoom_start=6)\n",
    "\n",
    "hm = HeatMapWithTime(\n",
    "    data,\n",
    "    index=time_index,\n",
    "    auto_play=True,\n",
    ")\n",
    "\n",
    "hm.add_to(m)\n",
    "\n",
    "m"
   ]
  },
  {
   "cell_type": "markdown",
   "metadata": {},
   "source": [
    "Now try for yourself using the Berkeley `calls` data set."
   ]
  },
  {
   "cell_type": "markdown",
   "metadata": {},
   "source": [
    "The first step is to get the data into the correct format. Create a new Table with two columns: Date, containing the data in the calls \"timestamp\" column, and Location, containing the call location data you used to make your HeatMap (the stacked and transposed latitudes and longitudes)."
   ]
  },
  {
   "cell_type": "markdown",
   "metadata": {},
   "source": [
    "Hint: check your 1-18 lab, or the Datascience Table documentation for [creating](http://data8.org/datascience/_autosummary/datascience.tables.Table.with_columns.html#datascience.tables.Table.with_columns) and [grouping](http://data8.org/datascience/_autosummary/datascience.tables.Table.group.html) Tables. You're going to want to call `group` with the `list` function as the aggregator."
   ]
  },
  {
   "cell_type": "code",
   "execution_count": null,
   "metadata": {
    "collapsed": true
   },
   "outputs": [],
   "source": [
    "# Create a new table with the date and call location data, grouped by the date. \n",
    "\n",
    "locs_and_dates = ...\n",
    "locs_and_dates.show(5)"
   ]
  },
  {
   "cell_type": "markdown",
   "metadata": {},
   "source": [
    "Next, extract the dates and the grouped locations into two variables to put in your HeatMapWithTime. Note:\n",
    "\n",
    "* HeatMapWithTime needs lists, so you'll need to convert your dates to a list using `.tolist()`\n",
    "* The Table Group function converts everthing to arrays, and each array needs to be converted to a list. This is super annoying, so we've given you the code to do it. Just extract the grouped locations from the correct column and put the extracted data in the ellipses on the second line."
   ]
  },
  {
   "cell_type": "code",
   "execution_count": null,
   "metadata": {
    "collapsed": true
   },
   "outputs": [],
   "source": [
    "berk_dates = ...\n",
    "berk_loc_by_date = [[x.tolist() for x in y] for y in ...]"
   ]
  },
  {
   "cell_type": "markdown",
   "metadata": {},
   "source": [
    "Finally, create a Folium map of Berkeley, then create a [HeatMapwithTime](https://python-visualization.github.io/folium/docs-v0.5.0/plugins.html) and add it to your Berkeley map. The call looks like `HeatMapWithTime(<grouped locations>, index=<dates>`). Click the link for more documentation. And, try adding the argument `autoplay=True`."
   ]
  },
  {
   "cell_type": "code",
   "execution_count": null,
   "metadata": {
    "collapsed": true
   },
   "outputs": [],
   "source": [
    "#Plot the heatmap of Berkeley crime\n",
    "berk_coords = ...\n",
    "berk_map2 = ...\n",
    "\n",
    "\n",
    "hmwt_berk = HeatMapWithTime(\n",
    "    ...,\n",
    "    index=...,\n",
    ")\n",
    "\n",
    "hmwt_berk.add_to(berk_map2)\n",
    "berk_map2"
   ]
  },
  {
   "cell_type": "markdown",
   "metadata": {},
   "source": [
    "What conclusions can you draw from this Heatmap?"
   ]
  },
  {
   "cell_type": "markdown",
   "metadata": {},
   "source": []
  }
 ],
 "metadata": {
  "anaconda-cloud": {},
  "kernelspec": {
   "display_name": "Python 3",
   "language": "python",
   "name": "python3"
  },
  "language_info": {
   "codemirror_mode": {
    "name": "ipython",
    "version": 3
   },
   "file_extension": ".py",
   "mimetype": "text/x-python",
   "name": "python",
   "nbconvert_exporter": "python",
   "pygments_lexer": "ipython3",
   "version": "3.6.3"
  }
 },
 "nbformat": 4,
 "nbformat_minor": 1
}
